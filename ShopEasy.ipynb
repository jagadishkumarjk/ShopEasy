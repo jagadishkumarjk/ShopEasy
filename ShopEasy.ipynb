{
 "cells": [
  {
   "cell_type": "code",
   "execution_count": 1,
   "id": "461ebb9e-536e-4580-b74d-0f0cbb012e3d",
   "metadata": {},
   "outputs": [],
   "source": [
    "import pandas as pd"
   ]
  },
  {
   "cell_type": "code",
   "execution_count": 26,
   "id": "d845083a-478a-4063-a81e-cf41ada4b4d0",
   "metadata": {},
   "outputs": [],
   "source": [
    "import mysql.connector as db"
   ]
  },
  {
   "cell_type": "code",
   "execution_count": 27,
   "id": "98f773c7-3983-4dec-8dac-d2d047967056",
   "metadata": {},
   "outputs": [],
   "source": [
    "import os"
   ]
  },
  {
   "cell_type": "code",
   "execution_count": 28,
   "id": "decbcdc6-cefc-44fe-8dea-cabaa42edaf3",
   "metadata": {},
   "outputs": [],
   "source": [
    "customers = pd.read_csv(\"J:\\\\Customer Behavior Analysis\\\\customers.csv\")\n",
    "customer_journey = pd.read_csv(\"J:\\\\Customer Behavior Analysis\\\\customer_journey.csv\")\n",
    "customer_reviews = pd.read_csv(\"J:\\\\Customer Behavior Analysis\\\\customer_reviews.csv\")\n",
    "engagement_data = pd.read_csv(\"J:\\\\Customer Behavior Analysis\\\\engagement_data.csv\")\n",
    "geography = pd.read_csv(\"J:\\\\Customer Behavior Analysis\\\\geography.csv\")\n",
    "products = pd.read_csv(\"J:\\\\Customer Behavior Analysis\\\\products.csv\")"
   ]
  },
  {
   "cell_type": "code",
   "execution_count": 29,
   "id": "9f4153b4-a856-41df-83d9-0c393e420803",
   "metadata": {},
   "outputs": [
    {
     "name": "stdout",
     "output_type": "stream",
     "text": [
      "JourneyID      0\n",
      "CustomerID     0\n",
      "ProductID      0\n",
      "VisitDate      0\n",
      "Stage          0\n",
      "Action         0\n",
      "Duration      14\n",
      "dtype: int64\n",
      "ReviewID      0\n",
      "CustomerID    0\n",
      "ProductID     0\n",
      "ReviewDate    0\n",
      "Rating        0\n",
      "ReviewText    0\n",
      "dtype: int64\n",
      "CustomerID      0\n",
      "CustomerName    0\n",
      "Email           0\n",
      "Gender          0\n",
      "Age             0\n",
      "GeographyID     0\n",
      "dtype: int64\n",
      "EngagementID           0\n",
      "ContentID              0\n",
      "ContentType            0\n",
      "Likes                  0\n",
      "EngagementDate         0\n",
      "CampaignID             0\n",
      "ProductID              0\n",
      "ViewsClicksCombined    0\n",
      "dtype: int64\n",
      "GeographyID    0\n",
      "Country        0\n",
      "City           0\n",
      "dtype: int64\n",
      "ProductID      0\n",
      "ProductName    0\n",
      "Category       0\n",
      "Price          0\n",
      "dtype: int64\n"
     ]
    }
   ],
   "source": [
    "# Check for missing values in each DataFrame\n",
    "print(customer_journey.isnull().sum())\n",
    "print(customer_reviews.isnull().sum())\n",
    "print(customers.isnull().sum())\n",
    "print(engagement_data.isnull().sum())\n",
    "print(geography.isnull().sum())\n",
    "print(products.isnull().sum())"
   ]
  },
  {
   "cell_type": "code",
   "execution_count": 30,
   "id": "2b17f981-82f3-4bbf-9bca-ac7041932a24",
   "metadata": {},
   "outputs": [
    {
     "name": "stderr",
     "output_type": "stream",
     "text": [
      "C:\\Users\\jagad\\AppData\\Local\\Temp\\ipykernel_6632\\2335063406.py:1: FutureWarning: A value is trying to be set on a copy of a DataFrame or Series through chained assignment using an inplace method.\n",
      "The behavior will change in pandas 3.0. This inplace method will never work because the intermediate object on which we are setting values always behaves as a copy.\n",
      "\n",
      "For example, when doing 'df[col].method(value, inplace=True)', try using 'df.method({col: value}, inplace=True)' or df[col] = df[col].method(value) instead, to perform the operation inplace on the original object.\n",
      "\n",
      "\n",
      "  customer_journey['Duration'].fillna(0, inplace=True)\n"
     ]
    }
   ],
   "source": [
    "customer_journey['Duration'].fillna(0, inplace=True)"
   ]
  },
  {
   "cell_type": "code",
   "execution_count": 31,
   "id": "f4ea8dab-9dff-454c-8f0d-29a8aa6d96e4",
   "metadata": {},
   "outputs": [],
   "source": [
    "customer_journey.columns = customer_journey.columns.str.lower()\n",
    "customer_reviews.columns = customer_reviews.columns.str.lower()\n",
    "customers.columns = customers.columns.str.lower()\n",
    "engagement_data.columns = engagement_data.columns.str.lower()\n",
    "geography.columns = geography.columns.str.lower()\n",
    "products.columns = products.columns.str.lower()"
   ]
  },
  {
   "cell_type": "code",
   "execution_count": 32,
   "id": "00e5c7e5-31b4-46a5-8ed0-6811ea4ff9c7",
   "metadata": {},
   "outputs": [],
   "source": [
    "customer_journey['visitdate'] = pd.to_datetime(customer_journey['visitdate'])\n",
    "customer_reviews['reviewdate'] = pd.to_datetime(customer_reviews['reviewdate'])\n",
    "engagement_data['engagementdate'] = pd.to_datetime(engagement_data['engagementdate'])"
   ]
  },
  {
   "cell_type": "code",
   "execution_count": 33,
   "id": "884b9c46-0387-4ef7-a7f7-ad8fd067ac04",
   "metadata": {},
   "outputs": [
    {
     "name": "stdout",
     "output_type": "stream",
     "text": [
      "<class 'pandas.core.frame.DataFrame'>\n",
      "RangeIndex: 100 entries, 0 to 99\n",
      "Data columns (total 7 columns):\n",
      " #   Column      Non-Null Count  Dtype         \n",
      "---  ------      --------------  -----         \n",
      " 0   journeyid   100 non-null    int64         \n",
      " 1   customerid  100 non-null    int64         \n",
      " 2   productid   100 non-null    int64         \n",
      " 3   visitdate   100 non-null    datetime64[ns]\n",
      " 4   stage       100 non-null    object        \n",
      " 5   action      100 non-null    object        \n",
      " 6   duration    100 non-null    float64       \n",
      "dtypes: datetime64[ns](1), float64(1), int64(3), object(2)\n",
      "memory usage: 5.6+ KB\n",
      "None\n",
      "<class 'pandas.core.frame.DataFrame'>\n",
      "RangeIndex: 100 entries, 0 to 99\n",
      "Data columns (total 6 columns):\n",
      " #   Column      Non-Null Count  Dtype         \n",
      "---  ------      --------------  -----         \n",
      " 0   reviewid    100 non-null    int64         \n",
      " 1   customerid  100 non-null    int64         \n",
      " 2   productid   100 non-null    int64         \n",
      " 3   reviewdate  100 non-null    datetime64[ns]\n",
      " 4   rating      100 non-null    int64         \n",
      " 5   reviewtext  100 non-null    object        \n",
      "dtypes: datetime64[ns](1), int64(4), object(1)\n",
      "memory usage: 4.8+ KB\n",
      "None\n",
      "<class 'pandas.core.frame.DataFrame'>\n",
      "RangeIndex: 100 entries, 0 to 99\n",
      "Data columns (total 6 columns):\n",
      " #   Column        Non-Null Count  Dtype \n",
      "---  ------        --------------  ----- \n",
      " 0   customerid    100 non-null    int64 \n",
      " 1   customername  100 non-null    object\n",
      " 2   email         100 non-null    object\n",
      " 3   gender        100 non-null    object\n",
      " 4   age           100 non-null    int64 \n",
      " 5   geographyid   100 non-null    int64 \n",
      "dtypes: int64(3), object(3)\n",
      "memory usage: 4.8+ KB\n",
      "None\n",
      "<class 'pandas.core.frame.DataFrame'>\n",
      "RangeIndex: 100 entries, 0 to 99\n",
      "Data columns (total 8 columns):\n",
      " #   Column               Non-Null Count  Dtype         \n",
      "---  ------               --------------  -----         \n",
      " 0   engagementid         100 non-null    int64         \n",
      " 1   contentid            100 non-null    int64         \n",
      " 2   contenttype          100 non-null    object        \n",
      " 3   likes                100 non-null    int64         \n",
      " 4   engagementdate       100 non-null    datetime64[ns]\n",
      " 5   campaignid           100 non-null    int64         \n",
      " 6   productid            100 non-null    int64         \n",
      " 7   viewsclickscombined  100 non-null    object        \n",
      "dtypes: datetime64[ns](1), int64(5), object(2)\n",
      "memory usage: 6.4+ KB\n",
      "None\n",
      "<class 'pandas.core.frame.DataFrame'>\n",
      "RangeIndex: 10 entries, 0 to 9\n",
      "Data columns (total 3 columns):\n",
      " #   Column       Non-Null Count  Dtype \n",
      "---  ------       --------------  ----- \n",
      " 0   geographyid  10 non-null     int64 \n",
      " 1   country      10 non-null     object\n",
      " 2   city         10 non-null     object\n",
      "dtypes: int64(1), object(2)\n",
      "memory usage: 372.0+ bytes\n",
      "None\n",
      "<class 'pandas.core.frame.DataFrame'>\n",
      "RangeIndex: 20 entries, 0 to 19\n",
      "Data columns (total 4 columns):\n",
      " #   Column       Non-Null Count  Dtype  \n",
      "---  ------       --------------  -----  \n",
      " 0   productid    20 non-null     int64  \n",
      " 1   productname  20 non-null     object \n",
      " 2   category     20 non-null     object \n",
      " 3   price        20 non-null     float64\n",
      "dtypes: float64(1), int64(1), object(2)\n",
      "memory usage: 772.0+ bytes\n",
      "None\n"
     ]
    }
   ],
   "source": [
    "print(customer_journey.info())\n",
    "print(customer_reviews.info())\n",
    "print(customers.info())\n",
    "print(engagement_data.info())\n",
    "print(geography.info())\n",
    "print(products.info())"
   ]
  },
  {
   "cell_type": "code",
   "execution_count": 34,
   "id": "9fbd7234-6c9f-429b-9533-1658a11391a8",
   "metadata": {},
   "outputs": [],
   "source": [
    "user = 'root'\n",
    "password = 'Jagadish@1430'\n",
    "host = 'localhost'"
   ]
  },
  {
   "cell_type": "code",
   "execution_count": 35,
   "id": "b26350dd-6a9e-4198-b821-470aaf9e1fff",
   "metadata": {},
   "outputs": [],
   "source": [
    "db_connection = db.connect(\n",
    "    host=host,\n",
    "    user=user,\n",
    "    password=password\n",
    ")\n",
    "db_connection\n",
    "curr = db_connection.cursor()\n"
   ]
  },
  {
   "cell_type": "code",
   "execution_count": 50,
   "id": "75be016b-da92-4e19-95cf-4e1144089c74",
   "metadata": {},
   "outputs": [],
   "source": [
    "curr.execute('create database if not exists ShopEasy')\n",
    "curr.execute(\"USE ShopEasy\")"
   ]
  },
  {
   "cell_type": "code",
   "execution_count": 51,
   "id": "c9081d36-edac-4502-85a2-11f414507b9e",
   "metadata": {},
   "outputs": [],
   "source": [
    "# Function to insert DataFrame into MySQL table\n",
    "def insert_dataframe_to_mysql(table_name, dataframe):\n",
    "    # Create the table if it doesn't exist\n",
    "    create_table_query = f\"\"\"\n",
    "    CREATE TABLE IF NOT EXISTS {table_name} (\n",
    "        {', '.join([f'{col} VARCHAR(255)' for col in dataframe.columns])}\n",
    "    )\n",
    "    \"\"\"\n",
    "    curr.execute(create_table_query)\n",
    "# Insert data into the table\n",
    "    for _, row in dataframe.iterrows():\n",
    "        insert_query = f\"\"\"\n",
    "        INSERT INTO {table_name} ({', '.join(dataframe.columns)})\n",
    "        VALUES ({', '.join(['%s'] * len(row))})\n",
    "        \"\"\"\n",
    "        curr.execute(insert_query, tuple(row.astype(str)))  # Convert all values to strings\n",
    "    db_connection.commit()\n"
   ]
  },
  {
   "cell_type": "code",
   "execution_count": 52,
   "id": "c8181e15-1550-4201-967a-ec1b9339e47c",
   "metadata": {},
   "outputs": [
    {
     "name": "stdout",
     "output_type": "stream",
     "text": [
      "Data has been successfully inserted into the 'shopeasy' database!\n"
     ]
    }
   ],
   "source": [
    "# Insert each DataFrame into MySQL\n",
    "insert_dataframe_to_mysql('customer_journey', customer_journey)\n",
    "insert_dataframe_to_mysql('customer_reviews', customer_reviews)\n",
    "insert_dataframe_to_mysql('customers', customers)\n",
    "insert_dataframe_to_mysql('engagement_data', engagement_data)\n",
    "insert_dataframe_to_mysql('geography', geography)\n",
    "insert_dataframe_to_mysql('products', products)\n",
    "\n",
    "# Close the connection\n",
    "curr.close()\n",
    "db_connection.close()\n",
    "\n",
    "print(\"Data has been successfully inserted into the 'shopeasy' database!\")"
   ]
  },
  {
   "cell_type": "code",
   "execution_count": null,
   "id": "b51a06bc-c059-4792-bcc9-6d1760865de6",
   "metadata": {},
   "outputs": [],
   "source": []
  },
  {
   "cell_type": "code",
   "execution_count": null,
   "id": "a8243ab1-329d-4a0c-b672-2b8e2cd42df7",
   "metadata": {},
   "outputs": [],
   "source": []
  }
 ],
 "metadata": {
  "kernelspec": {
   "display_name": "Python 3 (ipykernel)",
   "language": "python",
   "name": "python3"
  },
  "language_info": {
   "codemirror_mode": {
    "name": "ipython",
    "version": 3
   },
   "file_extension": ".py",
   "mimetype": "text/x-python",
   "name": "python",
   "nbconvert_exporter": "python",
   "pygments_lexer": "ipython3",
   "version": "3.12.7"
  }
 },
 "nbformat": 4,
 "nbformat_minor": 5
}
